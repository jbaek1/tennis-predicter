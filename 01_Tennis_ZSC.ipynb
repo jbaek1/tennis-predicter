{
  "nbformat": 4,
  "nbformat_minor": 0,
  "metadata": {
    "colab": {
      "provenance": [],
      "toc_visible": true
    },
    "kernelspec": {
      "name": "python3",
      "display_name": "Python 3"
    },
    "language_info": {
      "name": "python"
    }
  },
  "cells": [
    {
      "cell_type": "markdown",
      "source": [
        "Below is a python script used to eliminate whitespace as I assemble my dataset, consisting of finals match preview articles from ATPtour.com. This zero shot classification experiment will attempt to see if "
      ],
      "metadata": {
        "id": "12aNPIlaMypN"
      }
    },
    {
      "cell_type": "code",
      "execution_count": 5,
      "metadata": {
        "colab": {
          "base_uri": "https://localhost:8080/"
        },
        "id": "ePMwnLeYFzhl",
        "outputId": "1eea0795-6316-4691-c498-b85fcfbb30a1"
      },
      "outputs": [
        {
          "output_type": "stream",
          "name": "stdout",
          "text": [
            "Enter a line of text (or 'q' to quit): Monumental changes can happen in a year on the ATP Tour. Fifth seed Alexander Zverev was the highest-ranked player on Tour under age 24 just 12 months ago, but third seed Daniil Medvedev has assumed that role with his inspired tennis this season. The pair will add a new chapter to their budding rivalry when they meet on Sunday in the championship match of the Rolex Shanghai Masters.  “I did say before this year and during this year in the beginning that Sascha was the best in our [age] group. He won three [ATP] Masters [1000 titles] when none of us were even close to doing this,” Medvedev said. “The positions have changed a little bit, so I think I can contest him now.”  When it comes to FedEx ATP Head2Head rivalries, numbers can sometimes be deceiving. Zverev holds a flawless 4-0 record over Medvedev and will take extra confidence from all of their matches being contested on hard courts. But their most recent clash came last year in Toronto, when Medvedev was a qualifier sitting at No. 68 in the ATP Rankings.  Fourteen months later, Medvedev arrived in Shanghai as the more in-form player between the pair. He’s at a career-high standing of No. 4 in the ATP Rankings and has added five additional ATP Tour titles on his resume since their Toronto meeting, including his first ATP Masters 1000 crown in Cincinnati (d. Goffin) and maiden Grand Slam final at the US Open (l. to Nadal). He's also through to his sixth consecutive tour-level final and is only the fifth active player to achieve the feat.\n",
            "Enter a line of text (or 'q' to quit): “He's different this year than he was the previous years. The last time we played was in Toronto last year. So still a while ago, and he's been playing some unbelievable tennis,” Zverev said. “In the past few months, he's probably the best player in the world, making it to six finals in a row, winning an [ATP] Masters [1000 title], making it to the US Open final. He's definitely been playing the best tennis of his life.”  The 23-year-old Medvedev continues to add to his astounding season. He has more wins (58) and more appearances in finals (9) than anyone else on Tour this year. The Russian has prevailed in 28 of his past 31 matches and is currently on an eight-match winning streak, all of which have come in straight sets. Medvedev believes his progress this season will enable him to approach Sunday’s final against Zverev with a clean slate.\n",
            "Enter a line of text (or 'q' to quit): “I think the [record] doesn’t mean anything. It's a new match, new situations,” Medvedev said. “This year, I had a lot of matches against opponents I don't like. I remember one against Lucas Pouille. I was 4-0 down in the [FedEx ATP Head2Head] series and still won the match in Queen’s Club.”  Medvedev’s return game has been on point and will need to be equally impressive against Zverev. The third seed converted 10 of 21 break point chances this week, but Zverev’s serve is the toughest he’ll face in Shanghai. Merely blocking a return back will result in a prompt winner from the German.\n",
            "Enter a line of text (or 'q' to quit): Although Zverev is the first to admit that portions of his season haven’t met his lofty standards, he is back to his best tennis in Shanghai. The German scored his first Top 10 victory in a thrilling quarter-final over Roger Federer and put on a dominant display in his semi-final win over Matteo Berrettini,.  The fifth seed dropped just seven points on serve (40/47) against the Italian and didn’t face a break point. It’s a stark contrast to the serving woes he experienced during the North American hard-court swing, which included 20 double faults in his Cincinnati loss to #NextGenATP Serbian Miomir Kecmanovic.\n",
            "Enter a line of text (or 'q' to quit): But Medvedev possesses a far different style of play to Zverev’s previous two opponents. Zverev beat Federer and Berrettini to the punch in battles of first-strike tennis, but will need to be more patient against Medvedev and accept that the Russian will retrieve many shots that would be winners against most players.  Sunday’s final will also be crucial for Zverev as he looks to qualify for the season-ending Nitto ATP Finals, held from 10-17 November at The O2 in London. Zverev, the defending champion, is currently seventh place in the ATP Race to London (2,855) and holds a healthy lead over eighth-placed Berrettini (2,525). He’ll pick up an additional 400 points with a win over Medvedev.\n",
            "Enter a line of text (or 'q' to quit): q\n",
            "Monumental changes can happen in a year on the ATP Tour. Fifth seed Alexander Zverev was the highest-ranked player on Tour under age 24 just 12 months ago, but third seed Daniil Medvedev has assumed that role with his inspired tennis this season. The pair will add a new chapter to their budding rivalry when they meet on Sunday in the championship match of the Rolex Shanghai Masters.  “I did say before this year and during this year in the beginning that Sascha was the best in our [age] group. He won three [ATP] Masters [1000 titles] when none of us were even close to doing this,” Medvedev said. “The positions have changed a little bit, so I think I can contest him now.”  When it comes to FedEx ATP Head2Head rivalries, numbers can sometimes be deceiving. Zverev holds a flawless 4-0 record over Medvedev and will take extra confidence from all of their matches being contested on hard courts. But their most recent clash came last year in Toronto, when Medvedev was a qualifier sitting at No. 68 in the ATP Rankings.  Fourteen months later, Medvedev arrived in Shanghai as the more in-form player between the pair. He’s at a career-high standing of No. 4 in the ATP Rankings and has added five additional ATP Tour titles on his resume since their Toronto meeting, including his first ATP Masters 1000 crown in Cincinnati (d. Goffin) and maiden Grand Slam final at the US Open (l. to Nadal). He's also through to his sixth consecutive tour-level final and is only the fifth active player to achieve the feat. “He's different this year than he was the previous years. The last time we played was in Toronto last year. So still a while ago, and he's been playing some unbelievable tennis,” Zverev said. “In the past few months, he's probably the best player in the world, making it to six finals in a row, winning an [ATP] Masters [1000 title], making it to the US Open final. He's definitely been playing the best tennis of his life.”  The 23-year-old Medvedev continues to add to his astounding season. He has more wins (58) and more appearances in finals (9) than anyone else on Tour this year. The Russian has prevailed in 28 of his past 31 matches and is currently on an eight-match winning streak, all of which have come in straight sets. Medvedev believes his progress this season will enable him to approach Sunday’s final against Zverev with a clean slate. “I think the [record] doesn’t mean anything. It's a new match, new situations,” Medvedev said. “This year, I had a lot of matches against opponents I don't like. I remember one against Lucas Pouille. I was 4-0 down in the [FedEx ATP Head2Head] series and still won the match in Queen’s Club.”  Medvedev’s return game has been on point and will need to be equally impressive against Zverev. The third seed converted 10 of 21 break point chances this week, but Zverev’s serve is the toughest he’ll face in Shanghai. Merely blocking a return back will result in a prompt winner from the German. Although Zverev is the first to admit that portions of his season haven’t met his lofty standards, he is back to his best tennis in Shanghai. The German scored his first Top 10 victory in a thrilling quarter-final over Roger Federer and put on a dominant display in his semi-final win over Matteo Berrettini,.  The fifth seed dropped just seven points on serve (40/47) against the Italian and didn’t face a break point. It’s a stark contrast to the serving woes he experienced during the North American hard-court swing, which included 20 double faults in his Cincinnati loss to #NextGenATP Serbian Miomir Kecmanovic. But Medvedev possesses a far different style of play to Zverev’s previous two opponents. Zverev beat Federer and Berrettini to the punch in battles of first-strike tennis, but will need to be more patient against Medvedev and accept that the Russian will retrieve many shots that would be winners against most players.  Sunday’s final will also be crucial for Zverev as he looks to qualify for the season-ending Nitto ATP Finals, held from 10-17 November at The O2 in London. Zverev, the defending champion, is currently seventh place in the ATP Race to London (2,855) and holds a healthy lead over eighth-placed Berrettini (2,525). He’ll pick up an additional 400 points with a win over Medvedev.\n"
          ]
        }
      ],
      "source": [
        "text = \"\"\n",
        "while True:\n",
        "    line = input(\"Enter a line of text (or 'q' to quit): \")\n",
        "    if line == 'q':\n",
        "        break\n",
        "    else:\n",
        "        text += line.strip() + \" \"\n",
        "\n",
        "# Consolidate input text into a single paragraph\n",
        "paragraph = text.strip()\n",
        "\n",
        "print(paragraph)\n"
      ]
    },
    {
      "cell_type": "markdown",
      "source": [],
      "metadata": {
        "id": "tDZIJjz3KNAo"
      }
    }
  ]
}